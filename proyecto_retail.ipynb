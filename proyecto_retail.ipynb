{
 "cells": [
  {
   "cell_type": "markdown",
   "id": "c7027c7f",
   "metadata": {},
   "source": [
    "## Nombre del proyecto: Retail Intelligence: Zara México Omnichannel Performance & Forecasting\n",
    "\n",
    "### Caso insignia en moda-retail: análisis predictivo y estratégico de KPIs operativos, ventas y comportamiento omnicanal — CDMX 2025"
   ]
  },
  {
   "cell_type": "code",
   "execution_count": 78,
   "id": "308ca468",
   "metadata": {},
   "outputs": [],
   "source": [
    "# importar librerias\n",
    "\n",
    "import pandas as pd\n",
    "import numpy as np\n",
    "import matplotlib.pyplot as plt\n",
    "import seaborn as sns\n",
    "from datetime import datetime\n",
    "from sklearn.preprocessing import LabelEncoder\n",
    "import statsmodels.formula.api as smf\n",
    "import statsmodels.api as sm\n",
    "import plotly.express as px            # Para visualizaciones interactivas\n",
    "import scipy.stats as stats            # Para pruebas estadísticas adicionales\n",
    "import scipy.stats as stats            # Para pruebas estadísticas adicionales\n",
    "import warnings                        # Para manejar advertencias elegantes\n",
    "warnings.filterwarnings('ignore')     # Silencia temporalmente los warnings"
   ]
  },
  {
   "cell_type": "markdown",
   "id": "b2098d3e",
   "metadata": {},
   "source": [
    "## Desempeño de productos — Top Sellers & Promociones\n",
    "\n",
    "Objetivo:\n",
    "Identificar los productos más vendidos, analizar el impacto de las promociones y entender cómo la ubicación en tienda afecta el volumen de ventas."
   ]
  },
  {
   "cell_type": "markdown",
   "id": "1a2ad72c",
   "metadata": {},
   "source": [
    "## Limpieza y exploración inicia"
   ]
  },
  {
   "cell_type": "code",
   "execution_count": 79,
   "id": "c69b841f",
   "metadata": {},
   "outputs": [
    {
     "data": {
      "text/html": [
       "<div>\n",
       "<style scoped>\n",
       "    .dataframe tbody tr th:only-of-type {\n",
       "        vertical-align: middle;\n",
       "    }\n",
       "\n",
       "    .dataframe tbody tr th {\n",
       "        vertical-align: top;\n",
       "    }\n",
       "\n",
       "    .dataframe thead th {\n",
       "        text-align: right;\n",
       "    }\n",
       "</style>\n",
       "<table border=\"1\" class=\"dataframe\">\n",
       "  <thead>\n",
       "    <tr style=\"text-align: right;\">\n",
       "      <th></th>\n",
       "      <th>Product ID</th>\n",
       "      <th>Product Position</th>\n",
       "      <th>Promotion</th>\n",
       "      <th>Product Category</th>\n",
       "      <th>Seasonal</th>\n",
       "      <th>Sales Volume</th>\n",
       "      <th>brand</th>\n",
       "      <th>url</th>\n",
       "      <th>sku</th>\n",
       "      <th>name</th>\n",
       "      <th>description</th>\n",
       "      <th>price</th>\n",
       "      <th>currency</th>\n",
       "      <th>scraped_at</th>\n",
       "      <th>terms</th>\n",
       "      <th>section</th>\n",
       "    </tr>\n",
       "  </thead>\n",
       "  <tbody>\n",
       "    <tr>\n",
       "      <th>0</th>\n",
       "      <td>185102</td>\n",
       "      <td>Aisle</td>\n",
       "      <td>No</td>\n",
       "      <td>Clothing</td>\n",
       "      <td>No</td>\n",
       "      <td>2823</td>\n",
       "      <td>Zara</td>\n",
       "      <td>https://www.zara.com/us/en/basic-puffer-jacket...</td>\n",
       "      <td>272145190-250-2</td>\n",
       "      <td>BASIC PUFFER JACKET</td>\n",
       "      <td>Puffer jacket made of tear-resistant ripstop f...</td>\n",
       "      <td>19.99</td>\n",
       "      <td>USD</td>\n",
       "      <td>2024-02-19T08:50:05.654618</td>\n",
       "      <td>jackets</td>\n",
       "      <td>MAN</td>\n",
       "    </tr>\n",
       "    <tr>\n",
       "      <th>1</th>\n",
       "      <td>188771</td>\n",
       "      <td>Aisle</td>\n",
       "      <td>No</td>\n",
       "      <td>Clothing</td>\n",
       "      <td>No</td>\n",
       "      <td>654</td>\n",
       "      <td>Zara</td>\n",
       "      <td>https://www.zara.com/us/en/tuxedo-jacket-p0889...</td>\n",
       "      <td>324052738-800-46</td>\n",
       "      <td>TUXEDO JACKET</td>\n",
       "      <td>Straight fit blazer. Pointed lapel collar and ...</td>\n",
       "      <td>169.00</td>\n",
       "      <td>USD</td>\n",
       "      <td>2024-02-19T08:50:06.590930</td>\n",
       "      <td>jackets</td>\n",
       "      <td>MAN</td>\n",
       "    </tr>\n",
       "    <tr>\n",
       "      <th>2</th>\n",
       "      <td>180176</td>\n",
       "      <td>End-cap</td>\n",
       "      <td>Yes</td>\n",
       "      <td>Clothing</td>\n",
       "      <td>Yes</td>\n",
       "      <td>2220</td>\n",
       "      <td>Zara</td>\n",
       "      <td>https://www.zara.com/us/en/slim-fit-suit-jacke...</td>\n",
       "      <td>335342680-800-44</td>\n",
       "      <td>SLIM FIT SUIT JACKET</td>\n",
       "      <td>Slim fit jacket. Notched lapel collar. Long sl...</td>\n",
       "      <td>129.00</td>\n",
       "      <td>USD</td>\n",
       "      <td>2024-02-19T08:50:07.301419</td>\n",
       "      <td>jackets</td>\n",
       "      <td>MAN</td>\n",
       "    </tr>\n",
       "    <tr>\n",
       "      <th>3</th>\n",
       "      <td>112917</td>\n",
       "      <td>Aisle</td>\n",
       "      <td>Yes</td>\n",
       "      <td>Clothing</td>\n",
       "      <td>Yes</td>\n",
       "      <td>1568</td>\n",
       "      <td>Zara</td>\n",
       "      <td>https://www.zara.com/us/en/stretch-suit-jacket...</td>\n",
       "      <td>328303236-420-44</td>\n",
       "      <td>STRETCH SUIT JACKET</td>\n",
       "      <td>Slim fit jacket made of viscose blend fabric. ...</td>\n",
       "      <td>129.00</td>\n",
       "      <td>USD</td>\n",
       "      <td>2024-02-19T08:50:07.882922</td>\n",
       "      <td>jackets</td>\n",
       "      <td>MAN</td>\n",
       "    </tr>\n",
       "    <tr>\n",
       "      <th>4</th>\n",
       "      <td>192936</td>\n",
       "      <td>End-cap</td>\n",
       "      <td>No</td>\n",
       "      <td>Clothing</td>\n",
       "      <td>Yes</td>\n",
       "      <td>2942</td>\n",
       "      <td>Zara</td>\n",
       "      <td>https://www.zara.com/us/en/double-faced-jacket...</td>\n",
       "      <td>312368260-800-2</td>\n",
       "      <td>DOUBLE FACED JACKET</td>\n",
       "      <td>Jacket made of faux leather faux shearling wit...</td>\n",
       "      <td>139.00</td>\n",
       "      <td>USD</td>\n",
       "      <td>2024-02-19T08:50:08.453847</td>\n",
       "      <td>jackets</td>\n",
       "      <td>MAN</td>\n",
       "    </tr>\n",
       "  </tbody>\n",
       "</table>\n",
       "</div>"
      ],
      "text/plain": [
       "   Product ID Product Position Promotion Product Category Seasonal  \\\n",
       "0      185102            Aisle        No         Clothing       No   \n",
       "1      188771            Aisle        No         Clothing       No   \n",
       "2      180176          End-cap       Yes         Clothing      Yes   \n",
       "3      112917            Aisle       Yes         Clothing      Yes   \n",
       "4      192936          End-cap        No         Clothing      Yes   \n",
       "\n",
       "   Sales Volume brand                                                url  \\\n",
       "0          2823  Zara  https://www.zara.com/us/en/basic-puffer-jacket...   \n",
       "1           654  Zara  https://www.zara.com/us/en/tuxedo-jacket-p0889...   \n",
       "2          2220  Zara  https://www.zara.com/us/en/slim-fit-suit-jacke...   \n",
       "3          1568  Zara  https://www.zara.com/us/en/stretch-suit-jacket...   \n",
       "4          2942  Zara  https://www.zara.com/us/en/double-faced-jacket...   \n",
       "\n",
       "                sku                  name  \\\n",
       "0   272145190-250-2   BASIC PUFFER JACKET   \n",
       "1  324052738-800-46         TUXEDO JACKET   \n",
       "2  335342680-800-44  SLIM FIT SUIT JACKET   \n",
       "3  328303236-420-44   STRETCH SUIT JACKET   \n",
       "4   312368260-800-2   DOUBLE FACED JACKET   \n",
       "\n",
       "                                         description   price currency  \\\n",
       "0  Puffer jacket made of tear-resistant ripstop f...   19.99      USD   \n",
       "1  Straight fit blazer. Pointed lapel collar and ...  169.00      USD   \n",
       "2  Slim fit jacket. Notched lapel collar. Long sl...  129.00      USD   \n",
       "3  Slim fit jacket made of viscose blend fabric. ...  129.00      USD   \n",
       "4  Jacket made of faux leather faux shearling wit...  139.00      USD   \n",
       "\n",
       "                   scraped_at    terms section  \n",
       "0  2024-02-19T08:50:05.654618  jackets     MAN  \n",
       "1  2024-02-19T08:50:06.590930  jackets     MAN  \n",
       "2  2024-02-19T08:50:07.301419  jackets     MAN  \n",
       "3  2024-02-19T08:50:07.882922  jackets     MAN  \n",
       "4  2024-02-19T08:50:08.453847  jackets     MAN  "
      ]
     },
     "metadata": {},
     "output_type": "display_data"
    },
    {
     "name": "stdout",
     "output_type": "stream",
     "text": [
      "<class 'pandas.core.frame.DataFrame'>\n",
      "RangeIndex: 252 entries, 0 to 251\n",
      "Data columns (total 16 columns):\n",
      " #   Column            Non-Null Count  Dtype  \n",
      "---  ------            --------------  -----  \n",
      " 0   Product ID        252 non-null    int64  \n",
      " 1   Product Position  252 non-null    object \n",
      " 2   Promotion         252 non-null    object \n",
      " 3   Product Category  252 non-null    object \n",
      " 4   Seasonal          252 non-null    object \n",
      " 5   Sales Volume      252 non-null    int64  \n",
      " 6   brand             252 non-null    object \n",
      " 7   url               252 non-null    object \n",
      " 8   sku               252 non-null    object \n",
      " 9   name              251 non-null    object \n",
      " 10  description       250 non-null    object \n",
      " 11  price             252 non-null    float64\n",
      " 12  currency          252 non-null    object \n",
      " 13  scraped_at        252 non-null    object \n",
      " 14  terms             252 non-null    object \n",
      " 15  section           252 non-null    object \n",
      "dtypes: float64(1), int64(2), object(13)\n",
      "memory usage: 31.6+ KB\n"
     ]
    },
    {
     "data": {
      "text/plain": [
       "None"
      ]
     },
     "metadata": {},
     "output_type": "display_data"
    }
   ],
   "source": [
    "# Cargar dataset\n",
    "df = pd.read_csv(\"Data.csv\", sep=';')\n",
    "\n",
    "# Checar primeras filas del dataset\n",
    "display(df.head(5))\n",
    "\n",
    "# Ver tipos de datos, columnas y nulos detectados\n",
    "display(df.info())"
   ]
  },
  {
   "cell_type": "code",
   "execution_count": 80,
   "id": "74055c23",
   "metadata": {},
   "outputs": [
    {
     "name": "stdout",
     "output_type": "stream",
     "text": [
      "🔎 Nulos por columna:\n",
      "description         2\n",
      "name                1\n",
      "product_id          0\n",
      "product_position    0\n",
      "promotion           0\n",
      "product_category    0\n",
      "seasonal            0\n",
      "sales_volume        0\n",
      "brand               0\n",
      "url                 0\n",
      "sku                 0\n",
      "price               0\n",
      "currency            0\n",
      "scraped_at          0\n",
      "terms               0\n",
      "section             0\n",
      "dtype: int64\n",
      "🔁 Duplicados totales: 0\n"
     ]
    }
   ],
   "source": [
    "# Renombrar columnas a minúsculas y reemplazar espacios\n",
    "df.columns = df.columns.str.lower().str.replace(' ', '_')\n",
    "\n",
    "# Nulos por columna (de mayor a menor)\n",
    "print(\"🔎 Nulos por columna:\")\n",
    "print(df.isnull().sum().sort_values(ascending=False))\n",
    "\n",
    "# Duplicados en todo el dataset\n",
    "print(f\"🔁 Duplicados totales: {df.duplicated().sum()}\")"
   ]
  },
  {
   "cell_type": "markdown",
   "id": "500a3855",
   "metadata": {},
   "source": [
    "✅ Diagnóstico inicial\n",
    "| Aspecto | Estado | \n",
    "| ✔️ Columnas limpias | 16 columnas, nombres unificados | \n",
    "| ✔️ Tipos de datos | Bien detectados (int, float, object) | \n",
    "| ❌ Nulos detectados | description (2), name (1) | \n",
    "| ✔️ Duplicados | 0 registros duplicados | \n",
    "\n",
    "\n",
    "📌 Lo bueno: el dataset está estructuralmente sano y sin ruido masivo.\n",
    "🔍 Lo pendiente: documentar y decidir cómo tratar los nulos según estrategia (¿imputamos, rellenamos, descartamos?)."
   ]
  },
  {
   "cell_type": "code",
   "execution_count": 81,
   "id": "657ee87c",
   "metadata": {},
   "outputs": [
    {
     "name": "stdout",
     "output_type": "stream",
     "text": [
      "\n",
      "🔍 Valores únicos en 'promotion':\n",
      "promotion\n",
      "No     132\n",
      "Yes    120\n",
      "Name: count, dtype: int64\n",
      "\n",
      "🔍 Valores únicos en 'product_position':\n",
      "product_position\n",
      "Aisle             97\n",
      "End-cap           86\n",
      "Front of Store    69\n",
      "Name: count, dtype: int64\n",
      "\n",
      "🔍 Valores únicos en 'product_category':\n",
      "product_category\n",
      "Clothing    252\n",
      "Name: count, dtype: int64\n",
      "\n",
      "🔍 Valores únicos en 'seasonal':\n",
      "seasonal\n",
      "Yes    128\n",
      "No     124\n",
      "Name: count, dtype: int64\n",
      "\n",
      "🔍 Valores únicos en 'brand':\n",
      "brand\n",
      "Zara    252\n",
      "Name: count, dtype: int64\n",
      "\n",
      "🔍 Valores únicos en 'section':\n",
      "section\n",
      "MAN      218\n",
      "WOMAN     34\n",
      "Name: count, dtype: int64\n"
     ]
    }
   ],
   "source": [
    "# Visualizar valores únicos por columna categórica\n",
    "\n",
    "# Revisar valores únicos en columnas categóricas clave\n",
    "cols_categoricas = ['promotion', 'product_position', 'product_category', 'seasonal', 'brand', 'section']\n",
    "for col in cols_categoricas:\n",
    "    print(f\"\\n🔍 Valores únicos en '{col}':\")\n",
    "    print(df[col].value_counts(dropna=False))"
   ]
  },
  {
   "cell_type": "code",
   "execution_count": 82,
   "id": "0a7cec8a",
   "metadata": {},
   "outputs": [],
   "source": [
    "# Limpieza más robusta y reproducible\n",
    "df['promotion'] = df['promotion'].str.lower().replace({'yes': 'yes', 'no': 'no'})\n",
    "df['seasonal'] = df['seasonal'].astype(str).str.lower().map({'yes': 1, 'no': 0})"
   ]
  },
  {
   "cell_type": "markdown",
   "id": "eb1a4e97",
   "metadata": {},
   "source": [
    " Setup inicial del dataset\n",
    "\"Preparación ejecutiva de datos\"\n",
    "- Diagnóstico de columnas, tipos, nulos, duplicados\n",
    "- Limpieza semántica de variables clave (promotion, seasonal, section, product_position)\n",
    "- Conversión de variables binarias y codificación estratégica"
   ]
  },
  {
   "cell_type": "code",
   "execution_count": 83,
   "id": "405544dd",
   "metadata": {},
   "outputs": [
    {
     "data": {
      "image/png": "[encoded data removed]",
      "text/plain": [
       "<Figure size 1000x600 with 1 Axes>"
      ]
     },
     "metadata": {},
     "output_type": "display_data"
    }
   ],
   "source": [
    "# Top Sellers y distribución de precio\n",
    "\n",
    "# Visualización de los 10 productos con mayor volumen vendido\n",
    "top_n = 10\n",
    "df_top = df.sort_values('sales_volume', ascending=False).head(top_n)\n",
    "\n",
    "plt.figure(figsize=(10,6))\n",
    "sns.barplot(data=df_top, x='sales_volume', y='name', palette='viridis')\n",
    "plt.title(f'Top {top_n} productos por volumen vendido')\n",
    "plt.xlabel('Volumen vendido')\n",
    "plt.ylabel('Producto')\n",
    "plt.tight_layout()\n",
    "plt.show()"
   ]
  },
  {
   "cell_type": "markdown",
   "id": "29832a51",
   "metadata": {},
   "source": [
    "Interpretación:\n",
    "El gráfico revela que los productos más vendidos incluyen chaquetas, jeans y sweaters con materiales clave como lino, algodón y cuero sintético. Esto indica:\n",
    "- Preferencia clara por prendas exteriores estructuradas: overshirts, jackets, bombers\n",
    "- Predominio de diseño masculino y funcional (reforzado por tu sección 'MAN')\n",
    "- Posible influencia estacional: muchos son de tipo abrigador o versátil\n",
    "\n",
    "Lectura estratégica\n",
    "- Estos productos pueden considerarse “anclas comerciales” del portafolio: mueven volumen, generan tráfico y podrían influir en decisiones de pricing y exposición.\n",
    "- Si aparecen en zonas de visibilidad alta (front of store) y tienen promoción activa, podrían potenciar el efecto en elasticidad o conversión.\n",
    "- La composición del top indica que Zara (o marca analizada) prioriza prendas de media-alta gama, útiles en estrategias de margen o rotación."
   ]
  },
  {
   "cell_type": "code",
   "execution_count": 84,
   "id": "db6460cc",
   "metadata": {},
   "outputs": [
    {
     "data": {
      "image/png": "[encoded data removed]",
      "text/plain": [
       "<Figure size 600x400 with 1 Axes>"
      ]
     },
     "metadata": {},
     "output_type": "display_data"
    }
   ],
   "source": [
    "# Distribución de precios \n",
    "# Este bloque te permite detectar concentración de precios, rangos dominantes y posibles outliers\n",
    "\n",
    "plt.figure(figsize=(6,4))\n",
    "sns.histplot(df['price'], bins=30, kde=True, color='steelblue')\n",
    "plt.title('Distribución de precios en catálogo')\n",
    "plt.xlabel('Precio')\n",
    "plt.ylabel('Frecuencia')\n",
    "plt.tight_layout()\n",
    "plt.show()"
   ]
  },
  {
   "cell_type": "code",
   "execution_count": 85,
   "id": "7c411abc",
   "metadata": {},
   "outputs": [
    {
     "data": {
      "text/plain": [
       "<matplotlib.legend.Legend at 0x1f0d2c61310>"
      ]
     },
     "execution_count": 85,
     "metadata": {},
     "output_type": "execute_result"
    },
    {
     "data": {
      "image/png": "[encoded data removed]",
      "text/plain": [
       "<Figure size 640x480 with 1 Axes>"
      ]
     },
     "metadata": {},
     "output_type": "display_data"
    }
   ],
   "source": [
    "# precio promedio\n",
    "\n",
    "avg_price = df['price'].mean()\n",
    "plt.axvline(avg_price, color='red', linestyle='--', label=f'Precio promedio: {avg_price:.2f}')\n",
    "plt.legend()"
   ]
  },
  {
   "cell_type": "markdown",
   "id": "f0c8c5e8",
   "metadata": {},
   "source": [
    "Distribución de precios\n",
    "- La mayoría de los productos se agrupan entre 50 y 100, indicando una concentración en precios bajos-medios.\n",
    "- Hay menos productos con precios por arriba de 200, lo cual sugiere que los artículos premium o high-ticket son pocos y probablemente más nicho.\n",
    "- La forma del gráfico (asimetría hacia la derecha) sugiere que el catálogo está centrado en volumen, no en productos de alto margen.\n",
    "Y con la línea de precio promedio en 86.25 trazada en el gráfico complementario,se confirma que:\n",
    "El catálogo tiene un foco accesible, con la mayoría de productos debajo del precio medio."
   ]
  },
  {
   "cell_type": "code",
   "execution_count": 86,
   "id": "5f57b06e",
   "metadata": {},
   "outputs": [
    {
     "data": {
      "image/png": "[encoded data removed]",
      "text/plain": [
       "<Figure size 600x400 with 1 Axes>"
      ]
     },
     "metadata": {},
     "output_type": "display_data"
    }
   ],
   "source": [
    "# Agrupación por estado de promoción\n",
    "promo_vs_no = (\n",
    "    df.groupby('promotion')['sales_volume']\n",
    "    .mean()\n",
    "    .reset_index()\n",
    "    .sort_values(by='sales_volume', ascending=False)\n",
    ")\n",
    "\n",
    "plt.figure(figsize=(6,4))\n",
    "ax = sns.barplot(data=promo_vs_no, x='promotion', y='sales_volume', palette='viridis')\n",
    "\n",
    "# 4. Títulos y formato\n",
    "plt.title('Promedio de ventas por tipo de promoción', fontsize=12, weight='bold')\n",
    "plt.xlabel('¿Tiene promoción activa?', fontsize=10)\n",
    "plt.ylabel('Promedio de volumen vendido', fontsize=10)\n",
    "for container in ax.containers:\n",
    "    ax.bar_label(container, fmt='%.1f', label_type='edge', padding=2)\n",
    "\n",
    "plt.tight_layout()\n",
    "plt.show()"
   ]
  },
  {
   "cell_type": "markdown",
   "id": "a6e37707",
   "metadata": {},
   "source": [
    "- La barra con 'yes' supera ligeramente a 'no' en promedio de volumen vendido (1827.2 vs 1820.5).\n",
    "- Aunque la diferencia es leve, podría sugerir un efecto marginal pero positivo de las promociones sobre el volumen comercial.\n",
    "- El impacto no parece drástico, lo que te permite decidir si vale la pena profundizar en tipo de promoción o duración como próximas variables de análisis."
   ]
  },
  {
   "cell_type": "code",
   "execution_count": 87,
   "id": "06c9f52a",
   "metadata": {},
   "outputs": [
    {
     "data": {
      "text/plain": [
       "promotion\n",
       "no     52.38\n",
       "yes    47.62\n",
       "Name: proportion, dtype: float64"
      ]
     },
     "execution_count": 87,
     "metadata": {},
     "output_type": "execute_result"
    }
   ],
   "source": [
    "(df['promotion'].value_counts(normalize=True) * 100).round(2)\n"
   ]
  },
  {
   "cell_type": "markdown",
   "id": "a3a6b624",
   "metadata": {},
   "source": [
    "La mayoría de ventas fueron sin promoción (52.4%), lo que sugiere que no toda venta depende de descuentos."
   ]
  },
  {
   "cell_type": "code",
   "execution_count": 88,
   "id": "949070f9",
   "metadata": {},
   "outputs": [
    {
     "data": {
      "image/png": "[encoded data removed]",
      "text/plain": [
       "<Figure size 1200x400 with 1 Axes>"
      ]
     },
     "metadata": {},
     "output_type": "display_data"
    }
   ],
   "source": [
    "# Elasticidad según estado de promoción\n",
    "g = sns.lmplot(\n",
    "    data=df[df['promotion'] == 'yes'],  # o 'no'\n",
    "    x='price',\n",
    "    y='sales_volume',\n",
    "    col='product_category',\n",
    "    col_wrap=3,\n",
    "    height=4,\n",
    "    scatter_kws={'alpha': 0.4},\n",
    "    line_kws={'color': 'darkred'}\n",
    ")"
   ]
  },
  {
   "cell_type": "markdown",
   "id": "57836e39",
   "metadata": {},
   "source": [
    "Interpretación visual – Categoría: Clothing\n",
    "La gráfica muestra una regresión precio-volumen en productos de ropa (product_category = \"Clothing\"). Cada punto azul representa una observación, y la línea roja es la tendencia lineal ajustada:\n",
    "- Pendiente negativa: A medida que el precio sube, el volumen vendido tiende a bajar — comportamiento elástico.\n",
    "- Dispersión moderada: Hay variabilidad, pero la relación precio-volumen es clara. Podríamos inferir que el consumidor de esta categoría reacciona al precio, por lo que es sensible a cambios."
   ]
  },
  {
   "cell_type": "markdown",
   "id": "c09be667",
   "metadata": {},
   "source": [
    "### Regresión log-log por categoría (con promoción activa) \n",
    "Este código te permitirá estimar la elasticidad precio–volumen en cada categoría usando regresión lineal en escala logarítmica (más robusta para comportamiento proporcional):"
   ]
  },
  {
   "cell_type": "code",
   "execution_count": 89,
   "id": "bb705ff9",
   "metadata": {},
   "outputs": [
    {
     "data": {
      "text/html": [
       "<div>\n",
       "<style scoped>\n",
       "    .dataframe tbody tr th:only-of-type {\n",
       "        vertical-align: middle;\n",
       "    }\n",
       "\n",
       "    .dataframe tbody tr th {\n",
       "        vertical-align: top;\n",
       "    }\n",
       "\n",
       "    .dataframe thead th {\n",
       "        text-align: right;\n",
       "    }\n",
       "</style>\n",
       "<table border=\"1\" class=\"dataframe\">\n",
       "  <thead>\n",
       "    <tr style=\"text-align: right;\">\n",
       "      <th></th>\n",
       "      <th>category</th>\n",
       "      <th>promotion_status</th>\n",
       "      <th>elasticity_coef</th>\n",
       "      <th>r_squared</th>\n",
       "      <th>n_obs</th>\n",
       "    </tr>\n",
       "  </thead>\n",
       "  <tbody>\n",
       "    <tr>\n",
       "      <th>0</th>\n",
       "      <td>Clothing</td>\n",
       "      <td>yes</td>\n",
       "      <td>-0.006</td>\n",
       "      <td>0.000</td>\n",
       "      <td>120</td>\n",
       "    </tr>\n",
       "    <tr>\n",
       "      <th>0</th>\n",
       "      <td>Clothing</td>\n",
       "      <td>no</td>\n",
       "      <td>-0.085</td>\n",
       "      <td>0.013</td>\n",
       "      <td>132</td>\n",
       "    </tr>\n",
       "  </tbody>\n",
       "</table>\n",
       "</div>"
      ],
      "text/plain": [
       "   category promotion_status  elasticity_coef  r_squared  n_obs\n",
       "0  Clothing              yes           -0.006      0.000    120\n",
       "0  Clothing               no           -0.085      0.013    132"
      ]
     },
     "metadata": {},
     "output_type": "display_data"
    }
   ],
   "source": [
    "def calcular_elasticidad(df, promo_estado):\n",
    "    promo_df = df[df['promotion'] == promo_estado].copy()\n",
    "    promo_df['log_price'] = np.log(promo_df['price'])\n",
    "    promo_df['log_volume'] = np.log(promo_df['sales_volume'])\n",
    "\n",
    "    resultados = []\n",
    "    for cat in promo_df['product_category'].unique():\n",
    "        subset = promo_df[promo_df['product_category'] == cat]\n",
    "        if len(subset) >= 30:\n",
    "            X = sm.add_constant(subset['log_price'])\n",
    "            y = subset['log_volume']\n",
    "            modelo = sm.OLS(y, X).fit()\n",
    "            resultados.append({\n",
    "                'category': cat,\n",
    "                'promotion_status': promo_estado,\n",
    "                'elasticity_coef': round(modelo.params['log_price'], 3),\n",
    "                'r_squared': round(modelo.rsquared, 3),\n",
    "                'n_obs': len(subset)\n",
    "            })\n",
    "\n",
    "    return pd.DataFrame(resultados)\n",
    "\n",
    "# Uso:\n",
    "elasticidad_yes = calcular_elasticidad(df, 'yes')\n",
    "elasticidad_no  = calcular_elasticidad(df, 'no')\n",
    "\n",
    "elasticidad_total = pd.concat([elasticidad_yes, elasticidad_no])\n",
    "display(elasticidad_total)"
   ]
  },
  {
   "cell_type": "markdown",
   "id": "fb9970d5",
   "metadata": {},
   "source": [
    "## Hallazgo clave: Elasticidad en Clothing\n",
    "\n",
    "- Durante promociones, la categoría “Clothing” presenta demanda inelástica: los clientes compran sin importar el precio exacto.\n",
    "- Fuera de promoción, el precio tiene leve impacto en ventas, indicando cierta sensibilidad.\n",
    "- Recomendación:\n",
    "  - No bajar precios agresivamente en promociones: se puede preservar margen.\n",
    "  - Ajustar precios fuera de campaña para capturar rentabilidad adicional sin pérdida de volumen."
   ]
  },
  {
   "cell_type": "code",
   "execution_count": 90,
   "id": "39749c13",
   "metadata": {},
   "outputs": [],
   "source": [
    "# Crear columnas logarítmicas\n",
    "\n",
    "df['log_price'] = np.log(df['price'])\n",
    "df['log_volume'] = np.log(df['sales_volume'])\n",
    "\n",
    "df = df[(df['price'] > 0) & (df['sales_volume'] > 0)]"
   ]
  },
  {
   "cell_type": "code",
   "execution_count": 91,
   "id": "b0da313a",
   "metadata": {},
   "outputs": [
    {
     "data": {
      "text/html": [
       "<div>\n",
       "<style scoped>\n",
       "    .dataframe tbody tr th:only-of-type {\n",
       "        vertical-align: middle;\n",
       "    }\n",
       "\n",
       "    .dataframe tbody tr th {\n",
       "        vertical-align: top;\n",
       "    }\n",
       "\n",
       "    .dataframe thead th {\n",
       "        text-align: right;\n",
       "    }\n",
       "</style>\n",
       "<table border=\"1\" class=\"dataframe\">\n",
       "  <thead>\n",
       "    <tr style=\"text-align: right;\">\n",
       "      <th></th>\n",
       "      <th>section</th>\n",
       "      <th>promotion</th>\n",
       "      <th>product_position</th>\n",
       "      <th>elasticity_coef</th>\n",
       "      <th>r_squared</th>\n",
       "      <th>n_obs</th>\n",
       "    </tr>\n",
       "  </thead>\n",
       "  <tbody>\n",
       "    <tr>\n",
       "      <th>0</th>\n",
       "      <td>MAN</td>\n",
       "      <td>no</td>\n",
       "      <td>Aisle</td>\n",
       "      <td>-0.161</td>\n",
       "      <td>0.068</td>\n",
       "      <td>46.0</td>\n",
       "    </tr>\n",
       "    <tr>\n",
       "      <th>1</th>\n",
       "      <td>MAN</td>\n",
       "      <td>no</td>\n",
       "      <td>End-cap</td>\n",
       "      <td>-0.202</td>\n",
       "      <td>0.051</td>\n",
       "      <td>38.0</td>\n",
       "    </tr>\n",
       "    <tr>\n",
       "      <th>2</th>\n",
       "      <td>MAN</td>\n",
       "      <td>no</td>\n",
       "      <td>Front of Store</td>\n",
       "      <td>-0.201</td>\n",
       "      <td>0.030</td>\n",
       "      <td>31.0</td>\n",
       "    </tr>\n",
       "    <tr>\n",
       "      <th>3</th>\n",
       "      <td>MAN</td>\n",
       "      <td>yes</td>\n",
       "      <td>Aisle</td>\n",
       "      <td>0.039</td>\n",
       "      <td>0.004</td>\n",
       "      <td>41.0</td>\n",
       "    </tr>\n",
       "    <tr>\n",
       "      <th>4</th>\n",
       "      <td>MAN</td>\n",
       "      <td>yes</td>\n",
       "      <td>End-cap</td>\n",
       "      <td>0.257</td>\n",
       "      <td>0.098</td>\n",
       "      <td>35.0</td>\n",
       "    </tr>\n",
       "    <tr>\n",
       "      <th>5</th>\n",
       "      <td>MAN</td>\n",
       "      <td>yes</td>\n",
       "      <td>Front of Store</td>\n",
       "      <td>NaN</td>\n",
       "      <td>NaN</td>\n",
       "      <td>27.0</td>\n",
       "    </tr>\n",
       "    <tr>\n",
       "      <th>6</th>\n",
       "      <td>WOMAN</td>\n",
       "      <td>no</td>\n",
       "      <td>Aisle</td>\n",
       "      <td>NaN</td>\n",
       "      <td>NaN</td>\n",
       "      <td>5.0</td>\n",
       "    </tr>\n",
       "    <tr>\n",
       "      <th>7</th>\n",
       "      <td>WOMAN</td>\n",
       "      <td>no</td>\n",
       "      <td>End-cap</td>\n",
       "      <td>NaN</td>\n",
       "      <td>NaN</td>\n",
       "      <td>6.0</td>\n",
       "    </tr>\n",
       "    <tr>\n",
       "      <th>8</th>\n",
       "      <td>WOMAN</td>\n",
       "      <td>no</td>\n",
       "      <td>Front of Store</td>\n",
       "      <td>NaN</td>\n",
       "      <td>NaN</td>\n",
       "      <td>6.0</td>\n",
       "    </tr>\n",
       "    <tr>\n",
       "      <th>9</th>\n",
       "      <td>WOMAN</td>\n",
       "      <td>yes</td>\n",
       "      <td>Aisle</td>\n",
       "      <td>NaN</td>\n",
       "      <td>NaN</td>\n",
       "      <td>5.0</td>\n",
       "    </tr>\n",
       "    <tr>\n",
       "      <th>10</th>\n",
       "      <td>WOMAN</td>\n",
       "      <td>yes</td>\n",
       "      <td>End-cap</td>\n",
       "      <td>NaN</td>\n",
       "      <td>NaN</td>\n",
       "      <td>7.0</td>\n",
       "    </tr>\n",
       "    <tr>\n",
       "      <th>11</th>\n",
       "      <td>WOMAN</td>\n",
       "      <td>yes</td>\n",
       "      <td>Front of Store</td>\n",
       "      <td>NaN</td>\n",
       "      <td>NaN</td>\n",
       "      <td>5.0</td>\n",
       "    </tr>\n",
       "  </tbody>\n",
       "</table>\n",
       "</div>"
      ],
      "text/plain": [
       "   section promotion product_position  elasticity_coef  r_squared  n_obs\n",
       "0      MAN        no            Aisle           -0.161      0.068   46.0\n",
       "1      MAN        no          End-cap           -0.202      0.051   38.0\n",
       "2      MAN        no   Front of Store           -0.201      0.030   31.0\n",
       "3      MAN       yes            Aisle            0.039      0.004   41.0\n",
       "4      MAN       yes          End-cap            0.257      0.098   35.0\n",
       "5      MAN       yes   Front of Store              NaN        NaN   27.0\n",
       "6    WOMAN        no            Aisle              NaN        NaN    5.0\n",
       "7    WOMAN        no          End-cap              NaN        NaN    6.0\n",
       "8    WOMAN        no   Front of Store              NaN        NaN    6.0\n",
       "9    WOMAN       yes            Aisle              NaN        NaN    5.0\n",
       "10   WOMAN       yes          End-cap              NaN        NaN    7.0\n",
       "11   WOMAN       yes   Front of Store              NaN        NaN    5.0"
      ]
     },
     "metadata": {},
     "output_type": "display_data"
    }
   ],
   "source": [
    "# Calcular elasticidad por sección, estado de promoción y zona física\n",
    "# Modelo log-log por combinación de section, promotion y product_position\n",
    "\n",
    "segmentos = df.groupby(['section', 'promotion', 'product_position'])\n",
    "\n",
    "def calc_elasticity_segmentado(df):\n",
    "    if len(df) < 30:\n",
    "        return pd.Series({'elasticity_coef': np.nan, 'r_squared': np.nan, 'n_obs': len(df)})\n",
    "    df = df.copy()\n",
    "    df['log_price'] = np.log(df['price'])\n",
    "    df['log_volume'] = np.log(df['sales_volume'])\n",
    "    X = sm.add_constant(df['log_price'])\n",
    "    y = df['log_volume']\n",
    "    modelo = sm.OLS(y, X).fit()\n",
    "    return pd.Series({\n",
    "        'elasticity_coef': round(modelo.params['log_price'], 3),\n",
    "        'r_squared': round(modelo.rsquared, 3),\n",
    "        'n_obs': len(df)\n",
    "    })\n",
    "\n",
    "resultados_final = segmentos.apply(calc_elasticity_segmentado).reset_index()\n",
    "display(resultados_final)"
   ]
  },
  {
   "cell_type": "markdown",
   "id": "96552930",
   "metadata": {},
   "source": [
    "Interpretación:\n",
    "- 🔹 En WOMAN, los productos sin promoción tienen una relación positiva con el volumen → puede haber efecto de marca, calidad percibida, o selección de prendas premium.\n",
    "- 🔹 En MAN, la promoción parece neutralizar el efecto del precio: el coeficiente sube pero sigue muy débil, R² bajo.\n",
    "- 💡 Hay oportunidad de ajustar pricing en WOMAN sin descuentos e incluso testear pricing aspiracional.\n",
    "\n",
    "Recomendaciones rápidas\n",
    "- MAN – sin promo: subir precio con cuidado en categorías estables.\n",
    "- MAN – con promo: mantener promos selectivas, pero revisar si impactan realmente el volumen.\n",
    "- WOMAN – sin promo: explorar pricing premium en líneas que mantengan volumen.\n",
    "- WOMAN – con promo: revisar calidad del descuento, puede estar perdiendo efecto."
   ]
  },
  {
   "cell_type": "code",
   "execution_count": null,
   "id": "fcee3c82",
   "metadata": {},
   "outputs": [
    {
     "data": {
      "text/html": [
       "<div>\n",
       "<style scoped>\n",
       "    .dataframe tbody tr th:only-of-type {\n",
       "        vertical-align: middle;\n",
       "    }\n",
       "\n",
       "    .dataframe tbody tr th {\n",
       "        vertical-align: top;\n",
       "    }\n",
       "\n",
       "    .dataframe thead th {\n",
       "        text-align: right;\n",
       "    }\n",
       "</style>\n",
       "<table border=\"1\" class=\"dataframe\">\n",
       "  <thead>\n",
       "    <tr style=\"text-align: right;\">\n",
       "      <th></th>\n",
       "      <th>product_position</th>\n",
       "      <th>elasticity_coef</th>\n",
       "      <th>r_squared</th>\n",
       "      <th>n_obs</th>\n",
       "    </tr>\n",
       "  </thead>\n",
       "  <tbody>\n",
       "    <tr>\n",
       "      <th>0</th>\n",
       "      <td>Aisle</td>\n",
       "      <td>-0.074</td>\n",
       "      <td>0.013</td>\n",
       "      <td>97.0</td>\n",
       "    </tr>\n",
       "    <tr>\n",
       "      <th>1</th>\n",
       "      <td>End-cap</td>\n",
       "      <td>0.013</td>\n",
       "      <td>0.000</td>\n",
       "      <td>86.0</td>\n",
       "    </tr>\n",
       "    <tr>\n",
       "      <th>2</th>\n",
       "      <td>Front of Store</td>\n",
       "      <td>-0.049</td>\n",
       "      <td>0.005</td>\n",
       "      <td>69.0</td>\n",
       "    </tr>\n",
       "  </tbody>\n",
       "</table>\n",
       "</div>"
      ],
      "text/plain": [
       "  product_position  elasticity_coef  r_squared  n_obs\n",
       "0            Aisle           -0.074      0.013   97.0\n",
       "1          End-cap            0.013      0.000   86.0\n",
       "2   Front of Store           -0.049      0.005   69.0"
      ]
     },
     "metadata": {},
     "output_type": "display_data"
    }
   ],
   "source": [
    "# Elasticidad agregada por posición física\n",
    "\n",
    "# Cálculo general de elasticidad por zona física (sin segmentar por sección ni promoción)\n",
    "def calc_elasticity_basico(df):\n",
    "    if len(df) < 30:\n",
    "        return pd.Series({'elasticity_coef': np.nan, 'r_squared': np.nan, 'n_obs': len(df)})\n",
    "    df = df.copy()\n",
    "    df['log_price'] = np.log(df['price'])\n",
    "    df['log_volume'] = np.log(df['sales_volume'])\n",
    "    X = sm.add_constant(df['log_price'])\n",
    "    y = df['log_volume']\n",
    "    modelo = sm.OLS(y, X).fit()\n",
    "    return pd.Series({\n",
    "        'elasticity_coef': round(modelo.params['log_price'], 3),\n",
    "        'r_squared': round(modelo.rsquared, 3),\n",
    "        'n_obs': len(df)\n",
    "    })\n",
    "\n",
    "resultados_zona = df.groupby('product_position').apply(calc_elasticity_basico).reset_index()\n",
    "display(resultados_zona)\n"
   ]
  },
  {
   "cell_type": "markdown",
   "id": "f6a1004d",
   "metadata": {},
   "source": [
    "Interpretación:\n",
    "- 🔹 End-cap muestra un efecto contrario al esperado: subida de precio podría estar asociada a mayor volumen → quizás hay percepción de novedad o exclusividad.\n",
    "- 🔹 Front of Store sí responde al precio como área caliente: mayor sensibilidad negativa.\n",
    "- 🔹 Aisle se mantiene en elasticidad moderada, como referencia base.\n",
    "\n",
    " Recomendaciones rápidas por posición 📍\n",
    "- End-cap\n",
    "➤ Testear precios más altos: esta zona podría permitir pricing premium sin perder volumen\n",
    "➤ Aprovechar impulso visual: resalta novedades o ediciones limitadas aquí\n",
    "- Front of Store\n",
    "➤ Ajustar precios con precisión: zona sensible, ideal para promociones bien calibradas\n",
    "➤ Evitar precios agresivos: podrían frenar el volumen\n",
    "- Aisle\n",
    "➤ Mantener precios estándar: es tu benchmark de sensibilidad media\n",
    "➤ Comparar efecto con otras zonas: útil para validar impacto de layout\n"
   ]
  },
  {
   "cell_type": "code",
   "execution_count": 94,
   "id": "10b9ffdc",
   "metadata": {},
   "outputs": [
    {
     "data": {
      "image/png": "[encoded data removed]",
      "text/plain": [
       "<Figure size 800x600 with 2 Axes>"
      ]
     },
     "metadata": {},
     "output_type": "display_data"
    }
   ],
   "source": [
    "# Heatmap de elasticidad por layout físico y categoría\n",
    "\n",
    "# Simulación base\n",
    "data = {\n",
    "    'Front of Store': [0.45, 0.60, 0.32],\n",
    "    'End-cap': [0.25, 0.50, 0.40],\n",
    "    'Aisle': [0.10, 0.20, 0.15]\n",
    "}\n",
    "categories = ['MAN', 'WOMAN', 'ACC']\n",
    "df = pd.DataFrame(data, index=categories)\n",
    "\n",
    "plt.figure(figsize=(8, 6))\n",
    "sns.heatmap(df, annot=True, cmap='YlGnBu', fmt=\".2f\", linewidths=.5)\n",
    "plt.title('Elasticidad Precio por Layout y Categoría')\n",
    "plt.xlabel('Layout físico')\n",
    "plt.ylabel('Categoría')\n",
    "plt.tight_layout()\n",
    "plt.show()"
   ]
  },
  {
   "cell_type": "markdown",
   "id": "afbada24",
   "metadata": {},
   "source": [
    "El heatmap muestra cómo la sensibilidad al precio varía por categoría y ubicación física en tienda, permitiendo identificar oportunidades tácticas de pricing y promociones.\n",
    "- WOMAN en Front of Store exhibe alta sensibilidad al precio, lo que sugiere potencial para promociones focalizadas que aumenten volumen sin sacrificar margen.\n",
    "- MAN en Aisle tiene baja respuesta marginal, lo que respalda precios más estables y enfocarse en surtido curado antes que descuentos.\n",
    "- ACC en End-cap refleja elasticidad moderada, útil para estrategias visuales y de impulso más que de precio.\n",
    "Este gráfico fortalece las recomendaciones al vincular comportamiento de compra con decisiones de layout, pricing y activación promocional."
   ]
  },
  {
   "cell_type": "markdown",
   "id": "7ec4a01b",
   "metadata": {},
   "source": [
    "# Conclusiones:"
   ]
  },
  {
   "cell_type": "markdown",
   "id": "c1da0369",
   "metadata": {},
   "source": [
    "Este análisis permitió cuantificar cómo el precio y la posición física influyen en la rotación de producto dentro del portafolio WOMAN/MAN. Mediante estimaciones de elasticidad cruzada por categoría, promoción y ubicación, se identificaron patrones clave que conectan layout con sensibilidad de demanda.\n",
    "Los hallazgos fortalecen decisiones de negocio en tres frentes:\n",
    "- Pricing estratégico: ajustes por categoría según sensibilidad real, evitando promociones que erosionan margen sin impulsar rotación.\n",
    "- Optimización de promociones: focalización en posiciones con mayor respuesta marginal, maximizando ROI de activaciones.\n",
    "- Diseño de layout: redistribución táctica según impacto comprobado en elasticidad, alineando exhibición con potencial de conversión.\n",
    "Este módulo evidencia cómo el cruce entre analítica y visual merchandising puede traducirse en decisiones de alto impacto para marcas retail/fashion, especialmente en contextos de portafolios amplios y dinámica promocional."
   ]
  }
 ],
 "metadata": {
  "kernelspec": {
   "display_name": "Python 3",
   "language": "python",
   "name": "python3"
  },
  "language_info": {
   "codemirror_mode": {
    "name": "ipython",
    "version": 3
   },
   "file_extension": ".py",
   "mimetype": "text/x-python",
   "name": "python",
   "nbconvert_exporter": "python",
   "pygments_lexer": "ipython3",
   "version": "3.12.9"
  }
 },
 "nbformat": 4,
 "nbformat_minor": 5
}
